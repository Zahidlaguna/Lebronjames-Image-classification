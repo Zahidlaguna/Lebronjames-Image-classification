{
 "cells": [
  {
   "cell_type": "code",
   "execution_count": null,
   "metadata": {},
   "outputs": [],
   "source": [
    "import tensorflow as tf\n",
    "import numpy as np\n",
    "import matplotlib.pyplot as plt\n",
    "import cv2 \n",
    "import pandas as pd\n",
    "import os\n",
    "from keras.preprocessing.image import ImageDataGenerator\n",
    "from keras.preprocessing import image\n",
    "from keras.optimizers import RMSprop\n",
    "import imghdr\n",
    "from keras.models import Sequential\n",
    "from keras.layers import Conv2D, MaxPooling2D, Flatten, Dense, Dropout, Activation, BatchNormalization"
   ]
  },
  {
   "cell_type": "code",
   "execution_count": null,
   "metadata": {},
   "outputs": [],
   "source": [
    "data_dir = '/Users/zahidlaguna/Desktop/TrainingData'\n",
    "img_ext = ['jpeg','jpg', 'bmp', 'png']"
   ]
  },
  {
   "cell_type": "code",
   "execution_count": null,
   "metadata": {},
   "outputs": [],
   "source": [
    "for image_name in os.listdir(data_dir):\n",
    "    if os.path.isfile(os.path.join(data_dir, image_name)) and imghdr.what(os.path.join(data_dir, image_name)) not in img_ext:\n",
    "        print(image_name)\n",
    "        os.remove(os.path.join(data_dir, image_name))"
   ]
  },
  {
   "cell_type": "code",
   "execution_count": null,
   "metadata": {},
   "outputs": [],
   "source": [
    "data = tf.keras.utils.image_dataset_from_directory(data_dir)"
   ]
  },
  {
   "cell_type": "code",
   "execution_count": null,
   "metadata": {},
   "outputs": [],
   "source": [
    "data_iterator = data.as_numpy_iterator()"
   ]
  },
  {
   "cell_type": "code",
   "execution_count": null,
   "metadata": {},
   "outputs": [],
   "source": [
    "for image_name in os.listdir(data_dir):\n",
    "    if os.path.isdir(os.path.join(data_dir, image_name)):\n",
    "        continue\n",
    "    if os.path.isfile(os.path.join(data_dir, image_name)) and imghdr.what(os.path.join(data_dir, image_name)) not in img_ext:\n",
    "        print(f\"Skipping {image_name} - unsupported file format\")\n",
    "        continue\n",
    "    print(f\"Processing {image_name}\")\n",
    "    img = image.load_img(os.path.join(data_dir, image_name), target_size=(150, 150))\n",
    "    x = image.img_to_array(img)\n",
    "    x = np.expand_dims(x, axis=0)\n",
    "    batch = np.vstack([x])\n"
   ]
  },
  {
   "cell_type": "code",
   "execution_count": null,
   "metadata": {},
   "outputs": [],
   "source": [
    "#plot the image data\n",
    "plt.figure(figsize=(10, 10))\n",
    "for images, labels in data.take(1):\n",
    "    for i in range(9):\n",
    "        ax = plt.subplot(3, 3, i + 1)\n",
    "        try:\n",
    "            plt.imshow(images[i].numpy().astype(\"uint8\"))\n",
    "        except Exception as e:\n",
    "            print(f\"Skipping image - {e}\")\n",
    "            continue\n",
    "        plt.title(int(labels[i]))\n",
    "        plt.axis(\"off\")\n",
    "plt.show()"
   ]
  }
 ],
 "metadata": {
  "kernelspec": {
   "display_name": "Python 3",
   "language": "python",
   "name": "python3"
  },
  "language_info": {
   "codemirror_mode": {
    "name": "ipython",
    "version": 3
   },
   "file_extension": ".py",
   "mimetype": "text/x-python",
   "name": "python",
   "nbconvert_exporter": "python",
   "pygments_lexer": "ipython3",
   "version": "3.11.4"
  },
  "orig_nbformat": 4
 },
 "nbformat": 4,
 "nbformat_minor": 2
}
